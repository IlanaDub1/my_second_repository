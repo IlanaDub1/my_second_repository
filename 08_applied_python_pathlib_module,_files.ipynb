{
  "nbformat": 4,
  "nbformat_minor": 0,
  "metadata": {
    "colab": {
      "provenance": []
    },
    "kernelspec": {
      "name": "python3",
      "display_name": "Python 3"
    },
    "language_info": {
      "name": "python"
    }
  },
  "cells": [
    {
      "cell_type": "markdown",
      "source": [
        "# Learning a new python module\n",
        "\n",
        "> three simple things:\n",
        "\n",
        "1. which _important_ classes/types are in the module\n",
        "2. what are the _most useful_  constructors and methods for these classes\n",
        "3. any useful functions and constants in the module\n",
        "\n",
        "To effectively grasp a new Python module, leveraging tutorials for both foundational understanding and practical application is crucial. Here's an integrated approach:\n",
        "\n",
        "**1. Immerse in Tutorials for Comprehension and Context:** Begin with well-written tutorials from resources like [realpython](realpython.com). These provide an engaging narrative that explains why the module is useful, illustrating its practical applications and benefits. Through these narratives, you'll find context for the module's existence and its place within Python's ecosystem.\n",
        "\n",
        "**2. Interactive Code-Along:** Enhance your learning by coding alongside the tutorials. By typing out and running the code, you’re more likely to _actually learn_ and retain the information.\n",
        "\n",
        "**3. Experimentation in a Python Session:** Take what you’ve learned to an interactive Python session like Google Colab, and just try stuff out.\n",
        "\n",
        "**4. Deep Dive into Reference Documentation:** For a comprehensive understanding, turn to the official Python documentation on [python.org](python.org). It’s an excellent reference for all the nitty-gritty details of the module's capabilities, including an exhaustive list of functions, classes, and methods.\n",
        "\n",
        "> Incorporating these steps into your learning process bridges the gap between theoretical knowledge and practical expertise. Tutorials set the stage, documentation fills in the details, and hands-on coding ties everything together, giving you a well-rounded comprehension of the module and its place in your Python programming toolbox."
      ],
      "metadata": {
        "id": "ZtWsxLT1kbmE"
      }
    },
    {
      "cell_type": "markdown",
      "source": [
        "# the import statement\n",
        "\n",
        "variations on the `import` statement\n",
        "\n",
        "```python\n",
        "import MODULE\n",
        "from MODULE import NAME1, NAME2, ..., NAME_n\n",
        "from MODULE import NAME1 as OTHER1, ... NAME_n as OTHER_n\n",
        "```\n",
        "\n",
        "### Variations of the `import` Statement\n",
        "1. **`import MODULE`:**\n",
        "   - Example: `import math`, then use `math.sqrt()`.\n",
        "\n",
        "2. **`from MODULE import NAME1, NAME2, ..., NAME_n`:**\n",
        "   - Example: `from math import sqrt`, then use `sqrt()` directly.\n",
        "\n",
        "3. **`from MODULE import NAME1 as OTHER1, ... NAME_n as OTHER_n`:**\n",
        "   - This imports items with an alias.\n",
        "   - Useful if the original name is long or conflicts with other names.\n",
        "   - Example: `from math import sqrt as square_root`, then use `square_root()`.\n",
        "\n",
        "### RATIONALE:\n",
        "\n",
        "The `from MODULE import NAME` syntax serves several purposes:\n",
        "\n",
        "- **Reduces Typing:** It allows you to use functions, classes, etc., directly without prefixing them with the module name. This reduces typing and can make code clearer.\n",
        "  \n",
        "- **Avoids Namespace Conflicts:** It lets you bring in only the specific items you need, reducing the chance of name conflicts with items defined in your code or other imported modules.\n",
        "\n",
        "- **Improved Readability:** Code can be more readable when you don't have to repeatedly type the module name.\n",
        "\n"
      ],
      "metadata": {
        "id": "DooKNo7vrdiK"
      }
    },
    {
      "cell_type": "code",
      "source": [
        "import math\n",
        "math.cos(0)  # 1\n",
        "import math as m\n",
        "m.cos(0)  # 1\n",
        "from math import cos\n",
        "cos(0)  # 1\n",
        "from math import cos, sin, tan\n",
        "x =23423\n",
        "cos(x)**2 + sin(x)**2  # 1"
      ],
      "metadata": {
        "colab": {
          "base_uri": "https://localhost:8080/"
        },
        "id": "U26-voPTrzVr",
        "outputId": "c7e28a13-62db-4415-9852-34733865ccc6"
      },
      "execution_count": null,
      "outputs": [
        {
          "output_type": "execute_result",
          "data": {
            "text/plain": [
              "1.0"
            ]
          },
          "metadata": {},
          "execution_count": 26
        }
      ]
    },
    {
      "cell_type": "code",
      "source": [
        "pi = 'lemon keylime'\n",
        "from math import pi\n",
        "print(pi)"
      ],
      "metadata": {
        "colab": {
          "base_uri": "https://localhost:8080/"
        },
        "id": "F_C8f6Ajsoss",
        "outputId": "12a91ca8-4de4-4539-fc59-fc6fce72a044"
      },
      "execution_count": null,
      "outputs": [
        {
          "output_type": "stream",
          "name": "stdout",
          "text": [
            "3.141592653589793\n"
          ]
        }
      ]
    },
    {
      "cell_type": "code",
      "source": [
        "import datetime as dt\n",
        "from datetime import datetime as DT\n",
        "DT(2023, 11, 15)"
      ],
      "metadata": {
        "colab": {
          "base_uri": "https://localhost:8080/"
        },
        "id": "mkXwnwLprUmb",
        "outputId": "c435b1a0-c8fb-406c-e8b8-9e4a19dd4da5"
      },
      "execution_count": null,
      "outputs": [
        {
          "output_type": "execute_result",
          "data": {
            "text/plain": [
              "datetime.datetime(2023, 11, 15, 0, 0)"
            ]
          },
          "metadata": {},
          "execution_count": 21
        }
      ]
    },
    {
      "cell_type": "markdown",
      "source": [
        "### Understanding the `Path` Object from `pathlib`\n",
        "\n",
        "- **Introduction to `pathlib`:**\n",
        "  - `pathlib` provides easy-to-use classes to handle filesystem paths.\n",
        "  - It allows for more readable and maintainable code.\n",
        "- Importing pathlib:"
      ],
      "metadata": {
        "id": "JStm0-rjkpgS"
      }
    },
    {
      "cell_type": "code",
      "source": [
        "# import pathlib\n",
        "# and use the pathlib.Path constructor\n",
        "import pathlib\n",
        "p = pathlib.Path('/content/sample_data')\n",
        "print(p)"
      ],
      "metadata": {
        "colab": {
          "base_uri": "https://localhost:8080/"
        },
        "id": "3gcyTl0Vp2tJ",
        "outputId": "e18ebc99-861c-4157-dd35-291c3e671b96"
      },
      "execution_count": null,
      "outputs": [
        {
          "output_type": "stream",
          "name": "stdout",
          "text": [
            "/content/sample_data\n"
          ]
        }
      ]
    },
    {
      "cell_type": "code",
      "source": [
        "# but we can put the pathlib.Path class\n",
        "# into a new variable with shorter name\n",
        "Path = pathlib.Path\n",
        "print(Path)\n",
        "p = Path('/content/sample_data')\n",
        "print(p)"
      ],
      "metadata": {
        "colab": {
          "base_uri": "https://localhost:8080/"
        },
        "id": "kEulzRKAqQAM",
        "outputId": "d2f89237-63cd-4087-b41e-bfc65c509fc7"
      },
      "execution_count": null,
      "outputs": [
        {
          "output_type": "stream",
          "name": "stdout",
          "text": [
            "<class 'pathlib.Path'>\n",
            "/content/sample_data\n"
          ]
        }
      ]
    },
    {
      "cell_type": "code",
      "source": [
        "# can even make really short names\n",
        "P = pathlib.Path\n",
        "p = P('/content')\n",
        "print(p)"
      ],
      "metadata": {
        "colab": {
          "base_uri": "https://localhost:8080/"
        },
        "id": "Otr1ONgvqkW9",
        "outputId": "cbccb1ce-0aea-4537-94c2-b43318889287"
      },
      "execution_count": null,
      "outputs": [
        {
          "output_type": "stream",
          "name": "stdout",
          "text": [
            "/content\n"
          ]
        }
      ]
    },
    {
      "cell_type": "code",
      "execution_count": null,
      "metadata": {
        "id": "wrUGDmZUjr9G"
      },
      "outputs": [],
      "source": [
        "from pathlib import Path\n",
        "\n",
        "### the statement above ...\n",
        "### will actually run the code below\n",
        "# import pathlib\n",
        "# Path = pathlib.Path\n",
        "# del pathlib"
      ]
    },
    {
      "cell_type": "markdown",
      "source": [
        "- Creating a Path Object:\n",
        "\n",
        "  - Used to represent file paths and folders.\n",
        "  - Can work with both Windows and Unix path formats.\n"
      ],
      "metadata": {
        "id": "h7RER2m3k9VJ"
      }
    },
    {
      "cell_type": "code",
      "source": [
        "p = Path('.')  # symbolic reference to current directory\n",
        "print(\"Current directory:\", p)\n",
        "print(\"Current directory:\", p.absolute())  # absolute path"
      ],
      "metadata": {
        "colab": {
          "base_uri": "https://localhost:8080/"
        },
        "id": "MgehJNW8k7Q0",
        "outputId": "d5dcc5f5-098b-4d7d-e046-1bb4cac74d48"
      },
      "execution_count": null,
      "outputs": [
        {
          "output_type": "stream",
          "name": "stdout",
          "text": [
            "Current directory: .\n",
            "Current directory: /content\n"
          ]
        }
      ]
    },
    {
      "cell_type": "markdown",
      "source": [
        "- Listing Files in a Directory:\n",
        "\n",
        "  - You can list all files in a directory."
      ],
      "metadata": {
        "id": "YslI11h8lPCa"
      }
    },
    {
      "cell_type": "code",
      "source": [
        "p = Path('/content/sample_data/')\n",
        "for file in p.iterdir():\n",
        "    print(file)"
      ],
      "metadata": {
        "colab": {
          "base_uri": "https://localhost:8080/"
        },
        "id": "Z0spX1sRlEVI",
        "outputId": "760da027-f64d-48e3-9d03-a037bcba20b2"
      },
      "execution_count": null,
      "outputs": [
        {
          "output_type": "stream",
          "name": "stdout",
          "text": [
            "/content/sample_data/anscombe.json\n",
            "/content/sample_data/README.md\n",
            "/content/sample_data/mnist_test.csv\n",
            "/content/sample_data/mnist_train_small.csv\n",
            "/content/sample_data/california_housing_test.csv\n",
            "/content/sample_data/california_housing_train.csv\n"
          ]
        }
      ]
    },
    {
      "cell_type": "markdown",
      "source": [
        "- Checking if Path Exists:\n",
        "  - To check if a path exists."
      ],
      "metadata": {
        "id": "n4HG-j8ilcha"
      }
    },
    {
      "cell_type": "code",
      "source": [
        "a = Path('/content/sample_data/README.md')\n",
        "b = Path('not_an_existing_file.txt')\n",
        "\n",
        "for p in [a, b]:\n",
        "    if p.exists():\n",
        "        print(\"Path exists\", p)\n",
        "    else:\n",
        "        print(\"Path does not exist\", p)\n"
      ],
      "metadata": {
        "colab": {
          "base_uri": "https://localhost:8080/"
        },
        "id": "jv5HHiCqlXAa",
        "outputId": "8f5a56b4-eb61-4d43-ea25-7d2160def2e0"
      },
      "execution_count": null,
      "outputs": [
        {
          "output_type": "stream",
          "name": "stdout",
          "text": [
            "Path exists /content/sample_data/README.md\n",
            "Path does not exist not_an_existing_file.txt\n"
          ]
        }
      ]
    },
    {
      "cell_type": "code",
      "source": [
        "# windows: '.\\new_folder'\n",
        "# linux: './new_folder'\n",
        "\n",
        "p = Path('.')\n",
        "new_dir = p / 'new_folder'\n",
        "print(new_dir.absolute())\n",
        "new_dir.mkdir(exist_ok=True)\n",
        "print(\"New directory created:\", new_dir)"
      ],
      "metadata": {
        "colab": {
          "base_uri": "https://localhost:8080/"
        },
        "id": "srRytthdmHFb",
        "outputId": "ae769b49-9b0c-4a5f-8cb7-a0788f3ad8fa"
      },
      "execution_count": null,
      "outputs": [
        {
          "output_type": "stream",
          "name": "stdout",
          "text": [
            "/content/new_folder\n",
            "New directory created: new_folder\n"
          ]
        }
      ]
    },
    {
      "cell_type": "code",
      "source": [
        "type(p)"
      ],
      "metadata": {
        "colab": {
          "base_uri": "https://localhost:8080/"
        },
        "id": "mY1FvMa7upTy",
        "outputId": "976bfe38-c038-4044-b01d-31be172678b2"
      },
      "execution_count": null,
      "outputs": [
        {
          "output_type": "execute_result",
          "data": {
            "text/plain": [
              "pathlib.PosixPath"
            ]
          },
          "metadata": {},
          "execution_count": 31
        }
      ]
    },
    {
      "cell_type": "code",
      "source": [
        "### the variable Path is actually\n",
        "### either PosixPath or WindowsPath\n",
        "\n",
        "# if OS == 'windows':\n",
        "#     Path = WindowsPath\n",
        "# else:\n",
        "#     Path = PosixPath"
      ],
      "metadata": {
        "id": "GnroOaxevXrx"
      },
      "execution_count": null,
      "outputs": []
    },
    {
      "cell_type": "code",
      "source": [
        "\n",
        "file_path = p / 'example.txt'\n",
        "file_path.write_text(\"Hello, Pathlib!\")\n",
        "print(\"File written:\", file_path)\n",
        "\n",
        "# Example (reading):\n",
        "content = file_path.read_text()\n",
        "print(\"File content:\", content)\n",
        "\n",
        "\n",
        "# Combine paths, get parent directory, etc.\n",
        "parent_dir = p.parent\n",
        "print(\"Parent directory:\", parent_dir)\n",
        "combined_path = parent_dir / 'new_file.txt'\n",
        "print(\"Combined path:\", combined_path)"
      ],
      "metadata": {
        "colab": {
          "base_uri": "https://localhost:8080/"
        },
        "id": "e1r096WjmQzD",
        "outputId": "07c1b94f-21e9-4c6b-d04a-3f25895ed931"
      },
      "execution_count": null,
      "outputs": [
        {
          "output_type": "stream",
          "name": "stdout",
          "text": [
            "File written: example.txt\n",
            "File content: Hello, Pathlib!\n",
            "Parent directory: .\n",
            "Combined path: new_file.txt\n"
          ]
        }
      ]
    },
    {
      "cell_type": "code",
      "source": [
        "p = Path('sample_data/README.md').absolute()\n",
        "print(p)\n",
        "print(p.parent)\n",
        "print(p.parent.parent)\n",
        "print(p.parent.parent.parent)"
      ],
      "metadata": {
        "colab": {
          "base_uri": "https://localhost:8080/"
        },
        "id": "iKqy9vcvpaJ-",
        "outputId": "a85c0abb-379d-48bf-8019-c24a948015b9"
      },
      "execution_count": null,
      "outputs": [
        {
          "output_type": "stream",
          "name": "stdout",
          "text": [
            "/content/sample_data/README.md\n",
            "/content/sample_data\n",
            "/content\n",
            "/\n"
          ]
        }
      ]
    },
    {
      "cell_type": "markdown",
      "source": [
        "# Using `Path` from `pathlib` on Your Own Computer with JupyterLab\n",
        "\n",
        "JupyterLab is an interactive development environment that allows you to work with Jupyter notebooks. It's similar to Google Colab but runs on your own computer. This gives you more control and lets you work with files directly on your machine.\n",
        "\n",
        "## What is JupyterLab?\n",
        "\n",
        "- **Interactive Environment:** JupyterLab lets you write and run code in an interactive way.\n",
        "- **Supports Notebooks:** It uses Jupyter notebooks (.ipynb files), which combine code, text, and visuals.\n",
        "- **Flexible and Extensible:** You can customize it with extensions and integrate it with other tools.\n",
        "- **Great for Learning:** It's perfect for experimenting with Python and libraries like `pathlib`.\n",
        "\n",
        "## How to Install JupyterLab\n",
        "\n",
        "To get JupyterLab up and running on your computer, follow these simple steps:\n",
        "\n",
        "1. **Open Terminal or Command Prompt:**\n",
        "   - This is where you'll type the installation commands.\n",
        "\n",
        "2. **Install JupyterLab:**\n",
        "   - In the terminal, type:\n",
        "     ```\n",
        "     pip install jupyterlab\n",
        "     ```\n",
        "   - This command uses `pip`, Python's package installer, to download and install JupyterLab.\n",
        "\n",
        "3. **Wait for Installation:**\n",
        "   - It might take a few minutes to install. You'll see progress in the terminal.\n",
        "\n",
        "## Running JupyterLab\n",
        "\n",
        "After installing JupyterLab, it's easy to start using it:\n",
        "\n",
        "1. **Launch JupyterLab:**\n",
        "   - In the same terminal, type:\n",
        "     ```\n",
        "     jupyter lab\n",
        "     ```\n",
        "   - This command starts JupyterLab on your computer.\n",
        "\n",
        "2. **Use JupyterLab:**\n",
        "   - Your web browser will open with JupyterLab running.\n",
        "   - You can create a new notebook to start writing Python code.\n",
        "\n",
        "3. **Experiment with `Path`:**\n",
        "   - In your new notebook, you can import `Path` from `pathlib` and start experimenting.\n",
        "\n",
        "Remember, with JupyterLab running on your computer, you can easily work with local files and directories, making it ideal for learning and experimenting with `Path` from `pathlib`. It's a powerful tool for both beginners and experienced programmers."
      ],
      "metadata": {
        "id": "akGrQZ4yxecV"
      }
    },
    {
      "cell_type": "markdown",
      "source": [
        "# Your turn\n",
        "\n",
        "1. create a `Path()` object put in variable `p`\n",
        "2. print the `p` object\n",
        "3. create files\n",
        "4. write into files\n",
        "4. create directories\n",
        "5. rename files\n",
        "6. read files\n",
        "7. delete files\n",
        "\n",
        "### Task 1: Create a `Path()` Object\n",
        "- **Task:** Initialize a `Path` object and assign it to a variable `p`.\n",
        "- **Hint:** `Path()` without arguments defaults to the current directory.\n",
        "\n",
        "### Task 2: Print the `p` Object\n",
        "- **Task:** Display the contents of the `p` object.\n",
        "- **Hint:** Use the `print()` function to see the representation of `p`.\n",
        "\n",
        "### Task 3: Create Files\n",
        "- **Task:** Create a file named 'my_document.txt'.\n",
        "- **Hint:** Use `p / 'my_document.txt'` to create a new path and `touch()` to create the file.\n",
        "\n",
        "### Task 4: Write Data into Files\n",
        "- **Task:** Write the text \"Hello, pathlib!\" into 'my_document.txt'.\n",
        "- **Hint:** Use `write_text()` for writing. For appending, read the content first, then write back the old content plus the new content.\n",
        "\n",
        "### Task 5: Create Directories\n",
        "- **Task:** Make a new directory named 'my_folder'.\n",
        "- **Hint:** Use `mkdir()` method on the path `p / 'my_folder'`.\n",
        "\n",
        "### Task 6: Rename Files\n",
        "- **Task:** Change the name of 'my_document.txt' to 'updated_document.txt'.\n",
        "- **Hint:** Use the `rename()` method on the file path.\n",
        "\n",
        "### Task 7: Read Files\n",
        "- **Task:** Read the contents of 'updated_document.txt'.\n",
        "- **Hint:** Use the `read_text()` method on the file path.\n",
        "\n",
        "### Task 8: Delete Files\n",
        "- **Task:** Remove the file 'updated_document.txt'.\n",
        "- **Hint:** Use the `unlink()` method to delete the file.\n",
        "\n",
        "### Additional Challenge: Absolute vs. Relative Paths\n",
        "- **Task:** Compare the output of `p.resolve()` with `p`. What do you observe?\n",
        "- **Hint:** `resolve()` gives the absolute path, whereas `p` might be relative.\n",
        "\n",
        "> Through these tasks, you'll gain practical experience with file and directory management using `Path` in Python. They'll also help you understand the concepts of absolute and relative paths, as well as how to append to files instead of overwriting them.\n"
      ],
      "metadata": {
        "id": "aaDCfkDHxTOj"
      }
    },
    {
      "cell_type": "code",
      "source": [],
      "metadata": {
        "id": "NXci_xuQjwm3"
      },
      "execution_count": null,
      "outputs": []
    },
    {
      "cell_type": "markdown",
      "source": [
        "# solution"
      ],
      "metadata": {
        "id": "VksmfTIHjw7O"
      }
    },
    {
      "cell_type": "code",
      "source": [
        "from pathlib import Path\n",
        "\n",
        "# Task 1: Create a Path() object\n",
        "p = Path()\n",
        "print(\"Task 1: Created a Path object representing the current directory:\", p)\n",
        "\n",
        "# Task 2: Print the p Object\n",
        "print(\"\\nTask 2: Printing the Path object 'p' shows the current directory:\", p)\n",
        "\n",
        "# Task 3: Create Files\n",
        "file_path = p / 'my_document.txt'\n",
        "file_path.touch()  # Creates the file\n",
        "print(\"\\nTask 3: File 'my_document.txt' created at path:\", file_path)\n",
        "\n",
        "# Task 4: Write Data into Files\n",
        "file_path.write_text(\"Hello, pathlib!\")\n",
        "print(\"\\nTask 4: Written 'Hello, pathlib!' into 'my_document.txt'.\")\n",
        "\n",
        "# Append more lines to the file\n",
        "file_path.write_text(file_path.read_text() + \"\\nmore lines!\")\n",
        "print(\"Appended 'more lines!' to 'my_document.txt'.\")\n",
        "print(\"Current contents of 'my_document.txt':\\n\", file_path.read_text())\n",
        "\n",
        "# Task 5: Create Directories\n",
        "dir_path = p / 'my_folder'\n",
        "dir_path.mkdir(exist_ok=True)  # Creates the directory\n",
        "print(\"\\nTask 5: Directory 'my_folder' created at path:\", dir_path)\n",
        "\n",
        "# Task 6: Rename Files\n",
        "new_file_path = p / 'updated_document.txt'\n",
        "file_path.rename(new_file_path)  # Renames the file\n",
        "print(\"\\nTask 6: File 'my_document.txt' renamed to 'updated_document.txt'.\")\n",
        "\n",
        "# Task 7: Read Files\n",
        "content = new_file_path.read_text()\n",
        "print(\"\\nTask 7: Content of 'updated_document.txt':\\n\", content)\n",
        "\n",
        "# Task 8: Delete Files\n",
        "new_file_path.unlink()  # Deletes the file\n",
        "print(\"\\nTask 8: File 'updated_document.txt' deleted.\")\n",
        "\n",
        "# Additional Challenge: Absolute vs. Relative Paths\n",
        "absolute_path = p.resolve()\n",
        "print(\"\\nAdditional Challenge: Absolute path of 'p':\", absolute_path)\n"
      ],
      "metadata": {
        "colab": {
          "base_uri": "https://localhost:8080/"
        },
        "id": "tGsi_2Q3wzDR",
        "outputId": "c9b0502d-76b6-44b9-b6f7-59c2c8cbbb6a"
      },
      "execution_count": null,
      "outputs": [
        {
          "output_type": "stream",
          "name": "stdout",
          "text": [
            "Task 1: Created a Path object representing the current directory: .\n",
            "\n",
            "Task 2: Printing the Path object 'p' shows the current directory: .\n",
            "\n",
            "Task 3: File 'my_document.txt' created at path: my_document.txt\n",
            "\n",
            "Task 4: Written 'Hello, pathlib!' into 'my_document.txt'.\n",
            "Appended 'more lines!' to 'my_document.txt'.\n",
            "Current contents of 'my_document.txt':\n",
            " Hello, pathlib!\n",
            "more lines!\n",
            "\n",
            "Task 5: Directory 'my_folder' created at path: my_folder\n",
            "\n",
            "Task 6: File 'my_document.txt' renamed to 'updated_document.txt'.\n",
            "\n",
            "Task 7: Content of 'updated_document.txt':\n",
            " Hello, pathlib!\n",
            "more lines!\n",
            "\n",
            "Task 8: File 'updated_document.txt' deleted.\n",
            "\n",
            "Additional Challenge: Absolute path of 'p': /content\n"
          ]
        }
      ]
    },
    {
      "cell_type": "markdown",
      "source": [
        "# More Tasks with `Path` in Python\n",
        "\n",
        "### Task 9: List Specific File Types in a Directory\n",
        "\n",
        "**Task:** Create five files in the current directory: three with a `.txt` extension ('document1.txt', 'document2.txt', 'notes.txt') and two with different extensions ('image.jpg', 'data.csv'). Then, list all files with the `.txt` extension in the current directory.\n",
        "\n",
        "**Hints:**\n",
        "- Use the `touch()` method of the `Path` object to create each file.\n",
        "- After creating the files, use the `glob()` method with the pattern `'*.txt'` to find all text files.\n",
        "- The pattern `'*.txt'` matches any filename that ends with `.txt`, making it a useful tool to filter files by their extension.\n",
        "\n",
        "**Steps:**\n",
        "1. Create the files 'document1.txt', 'document2.txt', 'notes.txt', 'image.jpg', and 'data.csv'.\n",
        "2. Use `glob()` with the `'*.txt'` pattern to list all text files in the current directory.\n",
        "\n",
        "**Short Explanation of the Pattern `*.txt`:**\n",
        "- `*` in the pattern `'*.txt'` is a wildcard character that matches any sequence of characters.\n",
        "- `.txt` ensures that only files ending with this extension are matched.\n",
        "- Combined, `'*.txt'` will match any file regardless of its name, as long as it ends with `.txt`.\n",
        "\n",
        "> This task demonstrates how to create files with specific extensions and use the `glob()` method to efficiently find a subset of these files based on their extension. It is a common pattern in file operations, especially when dealing with directories containing various types of files.\n",
        "\n",
        "### Task 10: Check if a File Exists\n",
        "**Task:**\n",
        "1. Create a file named 'example.py' in the current directory.\n",
        "2. Check if 'example.py' exists.\n",
        "3. Delete 'example.py'.\n",
        "4. Check again if 'example.py' exists.\n",
        "\n",
        "**Hints:**\n",
        "- Use the `touch()` method to create 'example.py'.\n",
        "- Use the `exists()` method on the path `p / 'example.py'` to check its existence.\n",
        "- Use the `unlink()` method to delete the file.\n",
        "\n",
        "\n",
        "### Task 11: Get File Size\n",
        "**Task:**\n",
        "1. Create a file named 'hello.txt' and write some content to it.\n",
        "2. Find the size of 'hello.txt' in bytes.\n",
        "\n",
        "**Hints:**\n",
        "- Use the `write_text()` method to create 'hello.txt' with some content, like \"Hello World\".\n",
        "- Use the `stat()` method and access the `st_size` attribute to find the file size.\n",
        "\n",
        "**Example Content for 'hello.txt':**\n",
        "- \"Hello World\"\n",
        "\n",
        "### Task 12: Copy a File\n",
        "- **Task:** Copy 'hello.txt' to a new file 'hello_copy.txt'.\n",
        "- **Hint:** `pathlib` doesn’t have a direct copy method. Use `shutil.copy()` from the `shutil` module.\n",
        "\n",
        "### Task 13: Moving a File\n",
        "- **Task:** Move 'hello_copy.txt' to a directory 'my_folder'.\n",
        "- **Hint:** Use `rename()` method, but remember to provide the full new path.\n",
        "\n",
        "### Task 14: Creating Nested Directories\n",
        "- **Task:** Create a series of nested directories like 'dir1/dir2/dir3'.\n",
        "- **Hint:** Use `mkdir(parents=True)` to create all parent directories.\n",
        "\n",
        "### Task 15: Traverse Through Parent Directories of a Nested Directory\n",
        "\n",
        "**Task:**\n",
        "Using the nested directories created in Task 14 ('dir1/dir2/dir3'), traverse through and print each parent directory until you reach the root directory.\n",
        "\n",
        "**Hints:**\n",
        "- Start with the `Path` object representing 'dir1/dir2/dir3' from `task 14`\n",
        "- Use a while loop to go up each level of the directory structure by accessing the `.parent` attribute of the `Path` object.\n",
        "- Stop the loop when you reach the root directory (when the current directory's parent is the same as itself).\n",
        "\n",
        ">This revised task will help demonstrate how to navigate through a directory tree using the `.parent` attribute\n",
        "\n",
        "### Task 16: Resolve Relative Paths to Absolute Paths\n",
        "\n",
        "**Task Description:**\n",
        "Create a sibling directory named 'dir2_brother' alongside 'dir2' within the nested structure 'dir1/dir2/dir3'. Then, change your current working directory to 'dir1/dir2', create a Path object for '../dir2_brother', and use it to create a new file in the 'dir2_brother' directory. Finally, print the full path of the new file using the `.absolute()` method.\n",
        "\n",
        "**Hint & Steps:**\n",
        "1. Create the directory 'dir1/dir2_brother' as a sibling to 'dir2'.\n",
        "2. Change the current working directory to 'dir1/dir2'. please `import os` and use `os.chdir` for this.\n",
        "3. Create a `Path` object representing the path to the sibling directory ('../dir2_brother').\n",
        "4. Use this `Path` object to create a new file in the 'dir2_brother' directory.\n",
        "5. Print the full path of the new file using the `.absolute()` method to verify that the file was created in the correct location.\n",
        "\n",
        "> This task will help you understand how to navigate file systems using relative paths\n",
        "\n",
        "### Task 17: Iterate Through Files and Directories\n",
        "- **Task:** Print all files and directories within the `/content` directory.\n",
        "- **Hint:** Use `iterdir()` and distinguish between files and directories with `is_file()` and `is_dir()`.\n",
        "\n",
        "\n",
        "\n",
        "### Task 18: File Extension and Name\n",
        "- **Task:** Print the file name and extension separately for every file you found on task 17\n",
        "- **Hint:** Use the `stem` and `suffix` attributes.\n"
      ],
      "metadata": {
        "id": "vkHJjXwX5yL6"
      }
    },
    {
      "cell_type": "code",
      "source": [],
      "metadata": {
        "id": "llCEVW77j4qP"
      },
      "execution_count": null,
      "outputs": []
    },
    {
      "cell_type": "markdown",
      "source": [
        "# Solution"
      ],
      "metadata": {
        "id": "pumNHW8Hj5C-"
      }
    },
    {
      "cell_type": "code",
      "source": [
        "# Task 9: Create files and list all .txt files in the directory\n",
        "\n",
        "from pathlib import Path\n",
        "\n",
        "# Create a Path object for the current directory\n",
        "p = Path()\n",
        "\n",
        "# File names to create\n",
        "file_names = ['document1.txt', 'document2.txt', 'notes.txt', 'image.jpg', 'data.csv']\n",
        "\n",
        "# Creating the files using the touch method\n",
        "for file_name in file_names:\n",
        "    (p / file_name).touch()\n",
        "\n",
        "print(\"Created files:\", file_names)\n",
        "\n",
        "# Using glob to list all .txt files\n",
        "txt_files = list(p.glob('*.txt'))\n",
        "print(\"Text files in the directory:\")\n",
        "for txt_file in txt_files:\n",
        "    print(txt_file)\n"
      ],
      "metadata": {
        "colab": {
          "base_uri": "https://localhost:8080/"
        },
        "id": "QscKEWHMcPpV",
        "outputId": "00368851-530b-4a0a-f12d-1720d10f0f6c"
      },
      "execution_count": null,
      "outputs": [
        {
          "output_type": "stream",
          "name": "stdout",
          "text": [
            "Created files: ['document1.txt', 'document2.txt', 'notes.txt', 'image.jpg', 'data.csv']\n",
            "Text files in the directory:\n",
            "notes.txt\n",
            "document1.txt\n",
            "document2.txt\n"
          ]
        }
      ]
    },
    {
      "cell_type": "code",
      "source": [
        "# Task 10: Check if a File Exists, Then Delete and Check Again\n",
        "\n",
        "# Create a Path object for the current directory\n",
        "p = Path()\n",
        "\n",
        "# Step 1: Create the file 'example.py'\n",
        "example_file = p / 'example.py'\n",
        "example_file.touch()\n",
        "print(\"Created 'example.py'.\")\n",
        "\n",
        "# Step 2: Check if 'example.py' exists\n",
        "print(\"'example.py' exists:\", example_file.exists())\n",
        "\n",
        "# Step 3: Delete 'example.py'\n",
        "example_file.unlink()\n",
        "print(\"'example.py' deleted.\")\n",
        "\n",
        "# Step 4: Check again if 'example.py' exists\n",
        "print(\"'example.py' exists after deletion:\", example_file.exists())\n"
      ],
      "metadata": {
        "colab": {
          "base_uri": "https://localhost:8080/"
        },
        "id": "JCsHESIJdU-N",
        "outputId": "559d3275-1479-44e0-ebbd-030d189101ec"
      },
      "execution_count": null,
      "outputs": [
        {
          "output_type": "stream",
          "name": "stdout",
          "text": [
            "Created 'example.py'.\n",
            "'example.py' exists: True\n",
            "'example.py' deleted.\n",
            "'example.py' exists after deletion: False\n"
          ]
        }
      ]
    },
    {
      "cell_type": "code",
      "source": [
        "# Task 11: Create a File with Content, Then Get Its Size\n",
        "\n",
        "# Create a Path object for the current directory\n",
        "p = Path()\n",
        "\n",
        "# Step 1: Create 'hello.txt' with content\n",
        "hello_file = p / 'hello.txt'\n",
        "hello_file.write_text(\"Hello World\")\n",
        "print(\"Created 'hello.txt' with content.\")\n",
        "\n",
        "# Step 2: Find the size of 'hello.txt' in bytes\n",
        "print(\"Size of 'hello.txt':\", hello_file.stat().st_size, \"bytes\")\n"
      ],
      "metadata": {
        "colab": {
          "base_uri": "https://localhost:8080/"
        },
        "id": "spGXKaNKdZZ9",
        "outputId": "7cde2545-8fbe-4ad2-d73b-c8ba4b15c71f"
      },
      "execution_count": null,
      "outputs": [
        {
          "output_type": "stream",
          "name": "stdout",
          "text": [
            "Created 'hello.txt' with content.\n",
            "Size of 'hello.txt': 11 bytes\n"
          ]
        }
      ]
    },
    {
      "cell_type": "code",
      "source": [
        "# Task 12: Copy a File\n",
        "import shutil\n",
        "\n",
        "print(\"\\nTask 12: Copy 'hello.txt' to 'hello_copy.txt'.\")\n",
        "hello_copy = p / 'hello_copy.txt'\n",
        "shutil.copy(hello_file, hello_copy)\n",
        "print(\"File 'hello.txt' copied to 'hello_copy.txt'.\")"
      ],
      "metadata": {
        "colab": {
          "base_uri": "https://localhost:8080/"
        },
        "id": "XDXTATygdgR-",
        "outputId": "a1bb2fb2-9640-4ae0-8bef-b418968eaff5"
      },
      "execution_count": null,
      "outputs": [
        {
          "output_type": "stream",
          "name": "stdout",
          "text": [
            "\n",
            "Task 12: Copy 'hello.txt' to 'hello_copy.txt'.\n",
            "File 'hello.txt' copied to 'hello_copy.txt'.\n"
          ]
        }
      ]
    },
    {
      "cell_type": "code",
      "source": [
        "# Task 13: Moving a File\n",
        "print(\"\\nTask 13: Move 'hello_copy.txt' to the 'my_folder' directory.\")\n",
        "my_folder = p / 'my_folder'\n",
        "hello_copy_new_path = my_folder / 'hello_copy.txt'\n",
        "shutil.move(hello_copy, hello_copy_new_path)\n",
        "print(\"'hello_copy.txt' moved to 'my_folder'.\")"
      ],
      "metadata": {
        "colab": {
          "base_uri": "https://localhost:8080/"
        },
        "id": "GtIu_be858hq",
        "outputId": "4b8e78bb-3460-4269-d373-f6cd81333349"
      },
      "execution_count": null,
      "outputs": [
        {
          "output_type": "stream",
          "name": "stdout",
          "text": [
            "\n",
            "Task 13: Move 'hello_copy.txt' to the 'my_folder' directory.\n",
            "'hello_copy.txt' moved to 'my_folder'.\n"
          ]
        }
      ]
    },
    {
      "cell_type": "code",
      "source": [
        "# Task 14: Creating Nested Directories\n",
        "print(\"\\nTask 14: Create nested directories 'dir1/dir2/dir3'.\")\n",
        "nested_dirs = p / 'dir1/dir2/dir3'\n",
        "nested_dirs.mkdir(parents=True, exist_ok=True)\n",
        "print(\"Nested directories created: 'dir1/dir2/dir3'.\")\n",
        "\n"
      ],
      "metadata": {
        "colab": {
          "base_uri": "https://localhost:8080/"
        },
        "id": "sY1w_HvydnbE",
        "outputId": "d0bd6270-d58c-47e5-9464-30d7de078031"
      },
      "execution_count": null,
      "outputs": [
        {
          "output_type": "stream",
          "name": "stdout",
          "text": [
            "\n",
            "Task 14: Create nested directories 'dir1/dir2/dir3'.\n",
            "Nested directories created: 'dir1/dir2/dir3'.\n"
          ]
        }
      ]
    },
    {
      "cell_type": "code",
      "source": [
        "### Task 15\n",
        "\n",
        "# Assuming 'dir1/dir2/dir3' is already created as per Task 14\n",
        "# Start with the innermost directory 'dir3' in 'dir1/dir2/dir3'\n",
        "current_directory = Path('dir1/dir2/dir3')\n",
        "assert current_directory.exists()\n",
        "assert current_directory.is_dir()\n",
        "\n",
        "# Print each parent directory until you reach the root\n",
        "print(\"Traversing through parent directories:\")\n",
        "while current_directory != current_directory.parent:\n",
        "    # Move up one level\n",
        "    current_directory = current_directory.parent\n",
        "    # Print the parent directory\n",
        "    print(current_directory)\n"
      ],
      "metadata": {
        "colab": {
          "base_uri": "https://localhost:8080/"
        },
        "id": "hWI9pzjKdrWk",
        "outputId": "e8202ed4-0ed1-4bec-f933-21be558289e7"
      },
      "execution_count": null,
      "outputs": [
        {
          "output_type": "stream",
          "name": "stdout",
          "text": [
            "Traversing through parent directories:\n",
            "dir1/dir2\n",
            "dir1\n",
            ".\n"
          ]
        }
      ]
    },
    {
      "cell_type": "code",
      "source": [
        "\n",
        "# Task 16: Resolve Relative Paths to Absolute Paths\n",
        "from pathlib import Path\n",
        "import os\n",
        "\n",
        "print(\"Starting Task 16...\")\n",
        "\n",
        "# Step 1: Create the directory 'dir1/dir2_brother' as a sibling to 'dir2'\n",
        "dir1 = Path('dir1')\n",
        "dir2_brother = dir1 / 'dir2_brother'\n",
        "dir2_brother.mkdir(parents=True, exist_ok=True)\n",
        "print(f\"Created directory: {dir2_brother}\")\n",
        "\n",
        "# Step 2: Change the current working directory to 'dir1/dir2'\n",
        "# (Assuming 'dir1/dir2' exists)\n",
        "os.chdir(dir1 / 'dir2')\n",
        "print(f\"Changed current working directory to: {os.getcwd()}\")\n",
        "\n",
        "# Step 3: Create a Path object for '../dir2_brother' and use it to create a new file\n",
        "new_file_path = Path('../dir2_brother/new_file.txt')\n",
        "new_file_path.touch()\n",
        "print(f\"Created new file at: {new_file_path}\")\n",
        "\n",
        "# Step 4: Print the full path of the new file using .absolute()\n",
        "absolute_path = new_file_path.absolute()\n",
        "print(f\"Full path of the new file: {absolute_path}\")\n",
        "\n",
        "print(\"Task 16 completed.\")\n",
        "\n"
      ],
      "metadata": {
        "colab": {
          "base_uri": "https://localhost:8080/"
        },
        "id": "M8VvURb2du3V",
        "outputId": "23b708c8-c3c1-4d44-b95c-1d03dcbedf46"
      },
      "execution_count": null,
      "outputs": [
        {
          "output_type": "stream",
          "name": "stdout",
          "text": [
            "Starting Task 16...\n",
            "Created directory: dir1/dir2_brother\n",
            "Changed current working directory to: /content/dir1/dir2\n",
            "Created new file at: ../dir2_brother/new_file.txt\n",
            "Full path of the new file: /content/dir1/dir2/../dir2_brother/new_file.txt\n",
            "Task 16 completed.\n"
          ]
        }
      ]
    },
    {
      "cell_type": "code",
      "source": [
        "### Task 17\n",
        "\n",
        "# Create a Path object for the current directory\n",
        "current_dir = Path('/content')\n",
        "\n",
        "print(\"Task 17: Listing all files and directories in the current directory.\")\n",
        "for item in current_dir.iterdir():\n",
        "    if item.is_file():\n",
        "        print(f\"File: {item}\")\n",
        "    elif item.is_dir():\n",
        "        print(f\"Directory: {item}\")\n"
      ],
      "metadata": {
        "colab": {
          "base_uri": "https://localhost:8080/"
        },
        "id": "YcgM9cWcitDl",
        "outputId": "a3e79e17-11e0-4095-a966-752a6e18c27c"
      },
      "execution_count": null,
      "outputs": [
        {
          "output_type": "stream",
          "name": "stdout",
          "text": [
            "Task 17: Listing all files and directories in the current directory.\n",
            "Directory: /content/.config\n",
            "File: /content/hello.txt\n",
            "Directory: /content/dir1\n",
            "File: /content/greetings.txt\n",
            "Directory: /content/my_folder\n",
            "File: /content/people.txt\n",
            "Directory: /content/sample_data\n"
          ]
        }
      ]
    },
    {
      "cell_type": "code",
      "source": [
        "### Task 18\n",
        "\n",
        "print(\"\\nTask 18: Printing file name and extension for each file.\")\n",
        "\n",
        "for item in current_dir.iterdir():\n",
        "    if item.is_file():\n",
        "        print(f\"File Name: {item.stem}, Extension: {item.suffix}\")\n"
      ],
      "metadata": {
        "colab": {
          "base_uri": "https://localhost:8080/"
        },
        "id": "LoK1otF2ixV9",
        "outputId": "4ad4afa8-a4a0-4cf5-9e60-f24c3e91fb9a"
      },
      "execution_count": null,
      "outputs": [
        {
          "output_type": "stream",
          "name": "stdout",
          "text": [
            "\n",
            "Task 18: Printing file name and extension for each file.\n",
            "File Name: hello, Extension: .txt\n",
            "File Name: greetings, Extension: .txt\n",
            "File Name: people, Extension: .txt\n"
          ]
        }
      ]
    },
    {
      "cell_type": "markdown",
      "source": [
        "# Raw Strings in Python\n",
        "\n",
        "Raw strings in Python are a convenient way to handle strings that contain backslashes (`\\`) without needing to escape them. They are often used for regular expressions, file paths, and other scenarios where you don't want Python to treat backslashes as escape characters.\n",
        "\n",
        "### Motivation:\n",
        "Consider what happens when you print a normal string containing `\"\\\\\"`:\n",
        "\n",
        "```python\n",
        "print(\"\\\\\")  # This will print a single backslash\n",
        "```\n",
        "\n",
        "In a regular string, a backslash is an escape character, used to denote special characters like newlines (`\\n`) or tabs (`\\t`). So, to print a single backslash, you need to escape it using another backslash.\n",
        "\n",
        "### Using Raw Strings:\n",
        "In raw strings, prefixed with `r` or `R`, backslashes are treated as literal characters and do not need to be escaped.\n",
        "\n",
        "```python\n",
        "print(r\"in this raw string \\n and \\t are just letters without special meaning\")\n",
        "```\n",
        "\n",
        "This will print the string exactly as it is, with `\\n` and `\\t` as part of the string, not as newline and tab characters. Raw strings ignore escape characters, making them very useful when you need the string to exactly represent what you write, such as in regular expressions or file paths."
      ],
      "metadata": {
        "id": "PyhcVJ0k_H8J"
      }
    },
    {
      "cell_type": "code",
      "source": [
        "print(\"\\\\\") # \\"
      ],
      "metadata": {
        "colab": {
          "base_uri": "https://localhost:8080/"
        },
        "id": "BEprlxK79ya_",
        "outputId": "8d7301e8-6251-455a-ed00-c8bb0f069a05"
      },
      "execution_count": null,
      "outputs": [
        {
          "output_type": "stream",
          "name": "stdout",
          "text": [
            "\\\n"
          ]
        }
      ]
    },
    {
      "cell_type": "markdown",
      "source": [
        "what happens when you print `\"c:\\new_folder\"` ?"
      ],
      "metadata": {
        "id": "wqvYshyO_P38"
      }
    },
    {
      "cell_type": "code",
      "source": [
        "print(\"c:\\new_folder\")"
      ],
      "metadata": {
        "colab": {
          "base_uri": "https://localhost:8080/"
        },
        "id": "7Q6uKNAH_Oq1",
        "outputId": "fb739aa7-fdd9-48e7-b96a-1dbb4223e42f"
      },
      "execution_count": null,
      "outputs": [
        {
          "output_type": "stream",
          "name": "stdout",
          "text": [
            "c:\n",
            "ew_folder\n"
          ]
        }
      ]
    },
    {
      "cell_type": "code",
      "source": [
        "### SyntaxError: (unicode error) 'unicodeescape' codec can't decode bytes in position 2-3: truncated \\uXXXX escape\n",
        "# print(\"c:\\users\\aviad\\new_folder\")\n",
        "print(\"c:\\\\users\\\\aviad\\\\new_folder\")"
      ],
      "metadata": {
        "colab": {
          "base_uri": "https://localhost:8080/"
        },
        "id": "uHoMBNC1_XTR",
        "outputId": "50e7c6c6-48d7-4960-b546-63f772914c0a"
      },
      "execution_count": null,
      "outputs": [
        {
          "output_type": "stream",
          "name": "stdout",
          "text": [
            "c:\\users\\aviad\\new_folder\n"
          ]
        }
      ]
    },
    {
      "cell_type": "code",
      "source": [
        "print(r\"c:\\users\\aviad\\new_folder\")"
      ],
      "metadata": {
        "colab": {
          "base_uri": "https://localhost:8080/"
        },
        "id": "0LP3pNCw_540",
        "outputId": "af519952-884b-4d06-e48f-2d102a4e225e"
      },
      "execution_count": null,
      "outputs": [
        {
          "output_type": "stream",
          "name": "stdout",
          "text": [
            "c:\\users\\aviad\\new_folder\n"
          ]
        }
      ]
    },
    {
      "cell_type": "code",
      "source": [
        "print(r\"\\\\\")"
      ],
      "metadata": {
        "colab": {
          "base_uri": "https://localhost:8080/"
        },
        "id": "jG0IEqwzANNC",
        "outputId": "9b451184-16e8-4f2c-af45-9e9f9ad130c9"
      },
      "execution_count": null,
      "outputs": [
        {
          "output_type": "stream",
          "name": "stdout",
          "text": [
            "\\\\\n"
          ]
        }
      ]
    },
    {
      "cell_type": "code",
      "source": [
        "s = r\"\\\\\"\n",
        "type(s), len(s), s"
      ],
      "metadata": {
        "colab": {
          "base_uri": "https://localhost:8080/"
        },
        "id": "JEuxfMnWAjci",
        "outputId": "3201ae8d-7ac6-4c47-df78-3c192bb8101a"
      },
      "execution_count": null,
      "outputs": [
        {
          "output_type": "execute_result",
          "data": {
            "text/plain": [
              "(str, 2, '\\\\\\\\')"
            ]
          },
          "metadata": {},
          "execution_count": 57
        }
      ]
    },
    {
      "cell_type": "code",
      "source": [
        "s = \"\\\\\"\n",
        "type(s), len(s), s"
      ],
      "metadata": {
        "colab": {
          "base_uri": "https://localhost:8080/"
        },
        "id": "BmEGaSaaAsOB",
        "outputId": "c92206ae-f940-4a34-adda-00a4740d527f"
      },
      "execution_count": null,
      "outputs": [
        {
          "output_type": "execute_result",
          "data": {
            "text/plain": [
              "(str, 1, '\\\\')"
            ]
          },
          "metadata": {},
          "execution_count": 58
        }
      ]
    },
    {
      "cell_type": "markdown",
      "source": [
        "# Opening, Reading, and Writing to Files Using the `open` Function\n",
        "\n",
        "Working with files involves understanding file handles and their interaction with the underlying operating system. File handles are an abstraction provided by the operating system to interact with files. Their properties and behavior are largely dictated by the OS, and their concept is rooted in historical data storage practices, particularly those involving magnetic tape in the 1970s. Despite advancements in technology, the fundamental principles behind file handling have not evolved significantly, maintaining a consistent interface for programmers.\n",
        "\n",
        "When it comes to interacting with files, there are numerous methods available. However, the patterns shown below for reading from and writing to files are the most common and practical. They are relevant and applicable 99% of the time in various programming scenarios.\n",
        "\n",
        "### Open for Reading, and Read Line by Line\n",
        "This method opens a file for reading and processes it line by line. It's useful for handling large files or processing each line individually.\n",
        "\n",
        "```python\n",
        "f = open(FILENAME)\n",
        "for line in f:\n",
        "    # do stuff with the line\n",
        "f.close()  # Always remember to close the file\n",
        "```\n",
        "\n",
        "### Open for Writing, Write Stuff\n",
        "Here, the file is opened in write mode ('w'). This mode is used for writing content to a file. If the file already exists, it will be overwritten.\n",
        "\n",
        "```python\n",
        "f = open(FILENAME, \"w\")\n",
        "print(..., file=f)\n",
        "f.close()  # Closing the file to ensure data is written and file is released\n",
        "```\n",
        "\n",
        "### Open for Appending (Adding at the End)\n",
        "Opening a file in append mode ('a') allows you to add content to the end of the file without altering the existing content.\n",
        "\n",
        "```python\n",
        "f = open(FILENAME, \"a\")\n",
        "print(..., file=f)\n",
        "f.close()  # Don't forget to close the file\n",
        "```\n",
        "\n",
        "### The Importance of `.close()` in File Operations\n",
        "\n",
        "Understanding why `.close()` is essential in file handling relates to how operating systems manage file writing operations. Operating systems, in an effort to optimize performance, often delay writing data to the disk. This delay is because writing to a disk is significantly slower (by a factor of thousands) compared to writing to memory. As a result, when you write data to a file in your program, it's not uncommon to find that the data hasn't actually been written to the disk immediately.\n",
        "\n",
        "#### Why `.close()` Matters:\n",
        "- **Flushing Data:** When you call `.close()`, it signals the operating system that you're done with the file. More importantly, it triggers the OS to _flush_ all buffered data to the disk. Flushing is the process of writing all pending data to the permanent storage, ensuring that all your changes are saved as expected.\n",
        "- **Resource Management:** Open file handles are limited resources in your system. Failing to close a file handle can lead to resource leaks, which might prevent you or other programs from opening more files later.\n",
        "- **Data Integrity:** If your program crashes or the system experiences a power failure before `.close()` is called, the data might not be saved correctly, leading to data loss or corruption. Explicitly closing the file minimizes this risk.\n"
      ],
      "metadata": {
        "id": "3BBn6ydhBLdH"
      }
    },
    {
      "cell_type": "code",
      "source": [
        "# open the file for reading\n",
        "f = open('sample_data/california_housing_train.csv')\n",
        "print(f)  # operating system file handle object\n",
        "\n",
        "# f.read() # read the entire file and return as str\n",
        "# f.readlines() # read the entire file, and return as list of string\n",
        "f.readline()  # read the NEXT line in the file"
      ],
      "metadata": {
        "colab": {
          "base_uri": "https://localhost:8080/",
          "height": 71
        },
        "id": "Q03bdP_SAzeK",
        "outputId": "0040aa05-8484-427a-9558-5a7398010e97"
      },
      "execution_count": null,
      "outputs": [
        {
          "output_type": "stream",
          "name": "stdout",
          "text": [
            "<_io.TextIOWrapper name='sample_data/california_housing_train.csv' mode='r' encoding='UTF-8'>\n"
          ]
        },
        {
          "output_type": "execute_result",
          "data": {
            "text/plain": [
              "'\"longitude\",\"latitude\",\"housing_median_age\",\"total_rooms\",\"total_bedrooms\",\"population\",\"households\",\"median_income\",\"median_house_value\"\\n'"
            ],
            "application/vnd.google.colaboratory.intrinsic+json": {
              "type": "string"
            }
          },
          "metadata": {},
          "execution_count": 63
        }
      ]
    },
    {
      "cell_type": "code",
      "source": [
        "f.readline()"
      ],
      "metadata": {
        "colab": {
          "base_uri": "https://localhost:8080/",
          "height": 36
        },
        "id": "ihz-KFFKDT_B",
        "outputId": "89997ba8-ba34-404b-ab89-97a7d5717195"
      },
      "execution_count": null,
      "outputs": [
        {
          "output_type": "execute_result",
          "data": {
            "text/plain": [
              "'-114.560000,33.690000,17.000000,720.000000,174.000000,333.000000,117.000000,1.650900,85700.000000\\n'"
            ],
            "application/vnd.google.colaboratory.intrinsic+json": {
              "type": "string"
            }
          },
          "metadata": {},
          "execution_count": 66
        }
      ]
    },
    {
      "cell_type": "code",
      "source": [
        "f = open('sample_data/california_housing_train.csv')\n",
        "\n",
        "i = 1\n",
        "for line in f:\n",
        "    print(i, \"\\t\", line[:30], '...')\n",
        "\n",
        "    i+=1\n",
        "    if i>10:\n",
        "        break"
      ],
      "metadata": {
        "colab": {
          "base_uri": "https://localhost:8080/"
        },
        "id": "2t0UOy04EAHU",
        "outputId": "a3c8ccad-635d-4061-9d3a-c49f07a56452"
      },
      "execution_count": null,
      "outputs": [
        {
          "output_type": "stream",
          "name": "stdout",
          "text": [
            "1 \t \"longitude\",\"latitude\",\"housin ...\n",
            "2 \t -114.310000,34.190000,15.00000 ...\n",
            "3 \t -114.470000,34.400000,19.00000 ...\n",
            "4 \t -114.560000,33.690000,17.00000 ...\n",
            "5 \t -114.570000,33.640000,14.00000 ...\n",
            "6 \t -114.570000,33.570000,20.00000 ...\n",
            "7 \t -114.580000,33.630000,29.00000 ...\n",
            "8 \t -114.580000,33.610000,25.00000 ...\n",
            "9 \t -114.590000,34.830000,41.00000 ...\n",
            "10 \t -114.590000,33.610000,34.00000 ...\n"
          ]
        }
      ]
    },
    {
      "cell_type": "code",
      "source": [
        "#        filename,       mode\n",
        "# mode=\"w\" --> write\n",
        "f = open('new_file.txt', \"w\")\n",
        "# f.write(\"line1\\n\") # write text into the file\n",
        "### write each item in a list of texts to file\n",
        "# f.writelines([\"line2\\n\", \"line3\\n\"])\n",
        "print(\"line1\", file=f)\n",
        "for text in [\"line1\", \"line2\"]:\n",
        "    print(text, file=f)\n",
        "f.close()\n",
        "\n",
        "print(open(\"new_file.txt\").read())"
      ],
      "metadata": {
        "colab": {
          "base_uri": "https://localhost:8080/"
        },
        "id": "yhsMmdhcEhGw",
        "outputId": "9b379f5e-6731-402e-d473-025de91e5253"
      },
      "execution_count": null,
      "outputs": [
        {
          "output_type": "stream",
          "name": "stdout",
          "text": [
            "line1\n",
            "line1\n",
            "line2\n",
            "\n"
          ]
        }
      ]
    },
    {
      "cell_type": "code",
      "source": [
        "# opening the for writing completely destroys\n",
        "# any existing data in the file\n",
        "f = open('new_file.txt', \"w\")\n",
        "print(open(\"new_file.txt\").read())  # NOTHING\n"
      ],
      "metadata": {
        "colab": {
          "base_uri": "https://localhost:8080/"
        },
        "id": "zOAWnJ7aFfeh",
        "outputId": "93262151-c8e9-4904-ab81-9cc5173d46da"
      },
      "execution_count": null,
      "outputs": [
        {
          "output_type": "stream",
          "name": "stdout",
          "text": [
            "\n"
          ]
        }
      ]
    },
    {
      "cell_type": "markdown",
      "source": [
        "```\n",
        "A FILE THAT BIG?\n",
        "MIGHT BE USEFUL\n",
        "BUT NOW ITS GONE\n",
        "```\n",
        "\n",
        "> https://www.gnu.org/fun/jokes/error-haiku.en.html"
      ],
      "metadata": {
        "id": "OxrjJlM1Ho4D"
      }
    },
    {
      "cell_type": "code",
      "source": [
        "f = open('example.txt', 'w')\n",
        "f.write('hello!')\n",
        "# f.close()  # also flushes the data into the file\n",
        "print(open(\"example.txt\").read())  # NOTHING"
      ],
      "metadata": {
        "colab": {
          "base_uri": "https://localhost:8080/"
        },
        "id": "5wr4MpMSNXpL",
        "outputId": "a4a1a480-594d-411c-fef0-d0c0effcea0e"
      },
      "execution_count": null,
      "outputs": [
        {
          "output_type": "stream",
          "name": "stdout",
          "text": [
            "\n"
          ]
        }
      ]
    },
    {
      "cell_type": "markdown",
      "source": [
        "## `with` statement: how to not forget to .close() files?\n",
        "\n",
        "```python\n",
        "with open(FILENAME, \"w\") as f:\n",
        "    ... # do stuff with the file\n",
        "    ... #\n",
        "\n",
        "# here the file is closed\n",
        "print('done')\n",
        "```\n",
        "\n",
        "or more generically:\n",
        "\n",
        "```python\n",
        "with EXPRESSION as NEW_VARIABLE:\n",
        "    ... # do stuff\n",
        "    ... # with the variable\n",
        "\n",
        "... # here the with is finished and the object gets \"closed\"\n",
        "```"
      ],
      "metadata": {
        "id": "m6mp9dyLLFiY"
      }
    },
    {
      "cell_type": "markdown",
      "source": [
        "## `with` statement: How to Automatically Close Files in Python\n",
        "\n",
        "The `with` statement in Python provides a cleaner and more concise way to handle file operations, ensuring that files are automatically closed once the block of code is exited. This approach is particularly useful because it eliminates the need to explicitly call `.close()` on the file object, thereby reducing the risk of leaving files open unintentionally and causing resource leaks.\n",
        "\n",
        "### How the `with` Statement Works\n",
        "When you use the `with` statement to open a file, Python creates what is known as a context manager. This context manager takes care of opening the file when entering the block and, most importantly, closing the file when exiting the block, regardless of how the block is exited (whether normally or via an exception).\n",
        "\n",
        "#### Example Usage\n",
        "```python\n",
        "with open(FILENAME, \"w\") as f:\n",
        "    # Perform file operations\n",
        "    # You can write to the file, read from it, etc.\n",
        "    # ...\n",
        "\n",
        "# At this point, the file is automatically closed\n",
        "print('File operations complete, file closed')\n",
        "```\n",
        "\n",
        "#### Advantages of Using `with`\n",
        "- **Automatic File Closure:** The file is automatically closed when the block is exited, which is a significant advantage, especially in scenarios where your code may raise exceptions.\n",
        "- **Better Resource Management:** It helps in preventing resource leaks by ensuring that the file is closed even if an error occurs during file operations.\n",
        "- **Code Readability and Clarity:** The `with` statement makes it clear that the file usage is confined to the block, enhancing the readability and maintainability of your code.\n",
        "\n",
        "In summary, using the `with` statement for file handling in Python is a best practice that simplifies your code and eliminates the need to remember to close your files, thereby making your code more robust and error-free."
      ],
      "metadata": {
        "id": "3q59TNp2L06w"
      }
    },
    {
      "cell_type": "code",
      "source": [
        "with open('example.txt', 'w') as f:\n",
        "    print('hello!', file=f)\n",
        "    for i in range(1,10+1):\n",
        "        print('@' * i, file=f)\n",
        "\n",
        "# close happens automatically\n",
        "print(open(\"example.txt\").read())  # hello!"
      ],
      "metadata": {
        "colab": {
          "base_uri": "https://localhost:8080/"
        },
        "id": "pHxRo2wYOayS",
        "outputId": "1a5b01f4-8102-4e91-bd6b-4c0e69ef7401"
      },
      "execution_count": null,
      "outputs": [
        {
          "output_type": "stream",
          "name": "stdout",
          "text": [
            "hello!\n",
            "@\n",
            "@@\n",
            "@@@\n",
            "@@@@\n",
            "@@@@@\n",
            "@@@@@@\n",
            "@@@@@@@\n",
            "@@@@@@@@\n",
            "@@@@@@@@@\n",
            "@@@@@@@@@@\n",
            "\n"
          ]
        }
      ]
    },
    {
      "cell_type": "code",
      "source": [
        "# in this example, experiement by changing mode from \"w\" to \"a\"\n",
        "mode = \"w\"\n",
        "with open('append_example.txt', mode) as f:\n",
        "    print('hello', file=f)\n",
        "\n",
        "mode = \"a\"\n",
        "with open('append_example.txt', mode) as f:\n",
        "    print('goodbye', file=f)\n",
        "\n",
        "print(open('append_example.txt').read())"
      ],
      "metadata": {
        "colab": {
          "base_uri": "https://localhost:8080/"
        },
        "id": "MdmEQAU_PIoE",
        "outputId": "e1721e33-98c4-47b3-8f9e-dea2bb107992"
      },
      "execution_count": null,
      "outputs": [
        {
          "output_type": "stream",
          "name": "stdout",
          "text": [
            "hello\n",
            "goodbye\n",
            "\n"
          ]
        }
      ]
    },
    {
      "cell_type": "markdown",
      "source": [
        "\n",
        "\n",
        "### Exercise 1: Write to a File\n",
        "**Task:** Create a file named `greetings.txt` and write the sentence \"Hello, Python world!\" to it.\n",
        "\n",
        "**Hints:**\n",
        "- Use the `with` statement to open the file in write mode (`\"w\"`).\n",
        "- Use the `write()` method to add text to the file.\n",
        "\n",
        "### Exercise 2: Read from a File\n",
        "**Task:** Open the file `greetings.txt` created in Exercise 1 and print its contents to the console.\n",
        "\n",
        "**Hints:**\n",
        "- Open the file in read mode (`\"r\"`).\n",
        "- Use a `for` loop or the `read()` method to read the contents.\n",
        "- Print the contents.\n",
        "\n",
        "### Exercise 3: Append to a File\n",
        "**Task:** Append the sentence \"I'm learning file handling in Python!\" to the `greetings.txt` file.\n",
        "\n",
        "**Hints:**\n",
        "- Open the file in append mode (`\"a\"`).\n",
        "- Use the `write()` or `print()` method to add the new sentence to the file.\n",
        "\n",
        "### 🌶️🌶️🌶️ Exercise 4: Write and Read Person Data to/from a File\n",
        "\n",
        "**Task:** Create a list of dictionaries, each representing a person with their `name`, `age`, and `height`. Write this data to a file in a human-readable format, and then read it back, parsing the data to reconstruct the list of dictionaries.\n",
        "\n",
        "**Data Example:**\n",
        "```python\n",
        "people = [\n",
        "    {\"name\": \"Alice Smith\", \"age\": 30, \"height\": 5.5},\n",
        "    {\"name\": \"Bob Johnson\", \"age\": 45, \"height\": 6.1},\n",
        "    {\"name\": \"Carol Williams\", \"age\": 22, \"height\": 5.3},\n",
        "    {\"name\": \"David Brown\", \"age\": 35, \"height\": 5.9}\n",
        "]\n",
        "```\n",
        "\n",
        "#### Writing Data to a File\n",
        "**Hints:**\n",
        "- Use the `with` statement to open a file in write mode.\n",
        "- Format each person's data into a string and write it to the file.\n",
        "- Separate each person's data with a newline character.\n",
        "- Simplifying Assumption: Names contain only alphabetical characters and spaces.\n",
        "\n",
        "#### Example File Format:\n",
        "```\n",
        "Alice Smith, 30, 5.5\n",
        "Bob Johnson, 45, 6.1\n",
        "Carol Williams, 22, 5.3\n",
        "David Brown, 35, 5.9\n",
        "```\n",
        "\n",
        "#### Reading Data from the File\n",
        "**Hints:**\n",
        "- Open the file in read mode and read its content.\n",
        "- Use a `for` loop to iterate over each line in the file.\n",
        "- Split each line by the comma to separate the fields.\n",
        "- Convert age and height to their appropriate data types (int and float, respectively).\n",
        "- Reconstruct the list of dictionaries from the file data.\n",
        "\n",
        "> By completing this exercise, you will practice more advanced file operations, including custom data formatting and parsing without relying on external libraries like JSON. This will enhance your understanding of string manipulation and file I/O in Python."
      ],
      "metadata": {
        "id": "8yoUB0keMK9w"
      }
    },
    {
      "cell_type": "code",
      "source": [],
      "metadata": {
        "id": "Bnguj3gxHcrB"
      },
      "execution_count": null,
      "outputs": []
    },
    {
      "cell_type": "markdown",
      "source": [
        "# solution"
      ],
      "metadata": {
        "id": "v_cMMfvUSWAr"
      }
    },
    {
      "cell_type": "code",
      "source": [
        "# Exercise 1: Write to a File\n",
        "with open(\"greetings.txt\", \"w\") as file:\n",
        "    print(\"Hello, Python world!\", file=file)\n",
        "    print(\"thank you python\", file=file)\n",
        "\n",
        "# Exercise 2: Read from a File\n",
        "with open(\"greetings.txt\", \"r\") as file:\n",
        "    for line in file:\n",
        "        print(line.strip())\n",
        "\n",
        "# Exercise 3: Append to a File\n",
        "with open(\"greetings.txt\", \"a\") as file:\n",
        "    print(\"\\nI'm learning file handling in Python!\", file=file)\n",
        "\n",
        "print(open(\"greetings.txt\").read())"
      ],
      "metadata": {
        "colab": {
          "base_uri": "https://localhost:8080/"
        },
        "id": "KG_zIlQxSWwh",
        "outputId": "ce6b33b2-6038-47c0-8f0a-384087f3c998"
      },
      "execution_count": null,
      "outputs": [
        {
          "output_type": "stream",
          "name": "stdout",
          "text": [
            "Hello, Python world!\n",
            "thank you python\n",
            "Hello, Python world!\n",
            "thank you python\n",
            "\n",
            "I'm learning file handling in Python!\n",
            "\n"
          ]
        }
      ]
    },
    {
      "cell_type": "code",
      "source": [
        "\n",
        "# Exercise 4: Write and Read Person Data to/from a File\n",
        "people = [\n",
        "    {\"name\": \"Alice Smith\", \"age\": 30, \"height\": 5.5},\n",
        "    {\"name\": \"Bob Johnson\", \"age\": 45, \"height\": 6.1},\n",
        "    {\"name\": \"Carol Williams\", \"age\": 22, \"height\": 5.3},\n",
        "    {\"name\": \"David Brown\", \"age\": 35, \"height\": 5.9}\n",
        "]\n",
        "\n",
        "# Writing Data to a File\n",
        "with open(\"people.txt\", \"w\") as f:\n",
        "    for person in people:\n",
        "        print(\n",
        "            # Alice Smith, 30, 5.5\n",
        "            f\"{person['name']}, {person['age']}, {person['height']}\",\n",
        "            file=f\n",
        "            )\n",
        "\n",
        "# Reading Data from the File and Reconstructing the List\n",
        "read_people = []\n",
        "with open(\"people.txt\", \"r\") as file:\n",
        "    for line in file:\n",
        "        name, age, height = line.strip().split(\", \")\n",
        "        read_people.append({\"name\": name, \"age\": int(age), \"height\": float(height)})\n",
        "\n",
        "# Print the reconstructed list to verify\n",
        "for person in read_people:\n",
        "    print(person)\n"
      ],
      "metadata": {
        "colab": {
          "base_uri": "https://localhost:8080/"
        },
        "id": "6F_UlnsCSY9X",
        "outputId": "a55d9844-43bb-431a-af84-b934a73cc35e"
      },
      "execution_count": null,
      "outputs": [
        {
          "output_type": "stream",
          "name": "stdout",
          "text": [
            "{'name': 'Alice Smith', 'age': 30, 'height': 5.5}\n",
            "{'name': 'Bob Johnson', 'age': 45, 'height': 6.1}\n",
            "{'name': 'Carol Williams', 'age': 22, 'height': 5.3}\n",
            "{'name': 'David Brown', 'age': 35, 'height': 5.9}\n"
          ]
        }
      ]
    },
    {
      "cell_type": "markdown",
      "source": [
        "# JSON\n",
        "\n",
        "JSON (JavaScript Object Notation) is a format for structuring data, using conventions that are familiar to programmers. It's essentially text that can be converted into  lists and dictionaries in python.\n",
        "\n",
        "### How JSON Looks Like:\n",
        "\n",
        "```python\n",
        "people = [\n",
        "    {\"name\": \"Alice Smith\", \"age\": 30, \"height\": 5.5},\n",
        "    {\"name\": \"Bob Johnson\", \"age\": 45, \"height\": 6.1},\n",
        "    {\"name\": \"Carol Williams\", \"age\": 22, \"height\": 5.3},\n",
        "    {\"name\": \"David Brown\", \"age\": 35, \"height\": 5.9}\n",
        "]\n",
        "\n",
        "banks = [\n",
        "    {'name': 'hapoalim', 'rating': 7},\n",
        "    {'name': 'discount', 'rating': 8}\n",
        "]\n",
        "\n",
        "db = {\n",
        "    'people': people,\n",
        "    'banks': banks,\n",
        "}\n",
        "```\n",
        "\n",
        "If this Python data is converted to a JSON format, it will look remarkably similar:\n",
        "\n",
        "```json\n",
        "{\n",
        "    \"people\": [\n",
        "        {\"name\": \"Alice Smith\", \"age\": 30, \"height\": 5.5},\n",
        "        {\"name\": \"Bob Johnson\", \"age\": 45, \"height\": 6.1},\n",
        "        {\"name\": \"Carol Williams\", \"age\": 22, \"height\": 5.3},\n",
        "        {\"name\": \"David Brown\", \"age\": 35, \"height\": 5.9}\n",
        "    ],\n",
        "    \"banks\": [\n",
        "        {\"name\": \"hapoalim\", \"rating\": 7},\n",
        "        {\"name\": \"discount\", \"rating\": 8}\n",
        "    ]\n",
        "}\n",
        "```\n",
        "\n",
        "### JSON as Text Representing Objects:\n",
        "\n",
        "- **Textual Representation:** JSON is a text format. When you see a JSON file, it's a plain text file, but structured in a way that's readable, editable and understandable both by humans and computers.\n",
        "\n",
        "- **Objects Creation:** The JSON format is essentially representing  dictionaries, lists, strings, and numbers in Python. When this text is read by a Python program, it can be directly converted into Python objects.\n",
        "  > the same is true for JavaScript and many other languages.\n",
        "\n",
        "- **Python and JavaScript Syntax:** The syntax for representing objects, lists, strings, and numbers in JSON is identical to the syntax in Python and JavaScript for creating these data structures.\n",
        "\n"
      ],
      "metadata": {
        "id": "RxOrK6kDUQab"
      }
    },
    {
      "cell_type": "markdown",
      "source": [
        "### Motivation for JSON:\n",
        "1. **Easy to Understand and Edit:** Developers find it easy to read and manually edit JSON files, which is especially useful during debugging or configuration.\n",
        "\n",
        "2. **Flexibility:** JSON is inherently flexible. It allows for a recursive structure - dictionaries within lists, lists within dictionaries, and so on. This makes JSON capable of representing very complex data structures\n",
        "\n",
        "3. **Database Representation:** JSON can represent database-like structures. A single JSON can represnt a table in a DB, or even ALL the tables in the DB.\n",
        "\n",
        "### Key JSON Functions:\n",
        "- **`dump` and `dumps`:**\n",
        "  - `json.dump(object, file)` writes JSON data to a file-like object.\n",
        "  - `json.dumps(object)` (dump string) converts Python objects into a JSON string.\n",
        "- **`load` and `loads`:**\n",
        "  - `json.load(file)` reads JSON data from a file-like object and converts it into Python objects.\n",
        "  - `json.loads(text)` (load string) converts a JSON string into Python objects.\n",
        "\n",
        "In summary, JSON's human-readable format, combined with its flexibility and compatibility with modern database technologies, makes it an ideal choice for data interchange and storage in a wide range of applications."
      ],
      "metadata": {
        "id": "hm8qsrcgmRMv"
      }
    },
    {
      "cell_type": "code",
      "source": [
        "people = [\n",
        "    {\"name\": \"Alice Smith\", \"age\": 30, \"height\": 5.5},\n",
        "    {\"name\": \"Bob Johnson\", \"age\": 45, \"height\": 6.1},\n",
        "    {\"name\": \"Carol Williams\", \"age\": 22, \"height\": 5.3},\n",
        "    {\"name\": \"David Brown\", \"age\": 35, \"height\": 5.9}\n",
        "]\n",
        "\n",
        "banks = [\n",
        "    {'name' : 'hapoalim', 'rating': 7},\n",
        "    {'name' : 'discount', 'rating': 8}\n",
        "]\n",
        "\n",
        "db = {\n",
        "    'people' : people,\n",
        "    'banks' : banks,\n",
        "}"
      ],
      "metadata": {
        "id": "P5fQdkumStUv"
      },
      "execution_count": null,
      "outputs": []
    },
    {
      "cell_type": "code",
      "source": [
        "import json\n",
        "\n",
        "data_representation = json.dumps(db)\n",
        "print(data_representation)\n",
        "\n",
        "with open('database.json', 'w') as f:\n",
        "    # print(data_representation, file=f)\n",
        "    json.dump(db, f)\n",
        "\n",
        "with open(\"database.json\", \"r\") as f:\n",
        "    # result = json.loads(f.read())\n",
        "    result = json.load(f)\n",
        "\n",
        "print(type(result))\n",
        "result"
      ],
      "metadata": {
        "colab": {
          "base_uri": "https://localhost:8080/"
        },
        "id": "-kNpo8GbV9YB",
        "outputId": "9d394ac9-2262-4227-e99e-b35d60df4fd7"
      },
      "execution_count": null,
      "outputs": [
        {
          "output_type": "stream",
          "name": "stdout",
          "text": [
            "{\"people\": [{\"name\": \"Alice Smith\", \"age\": 30, \"height\": 5.5}, {\"name\": \"Bob Johnson\", \"age\": 45, \"height\": 6.1}, {\"name\": \"Carol Williams\", \"age\": 22, \"height\": 5.3}, {\"name\": \"David Brown\", \"age\": 35, \"height\": 5.9}], \"banks\": [{\"name\": \"hapoalim\", \"rating\": 7}, {\"name\": \"discount\", \"rating\": 8}]}\n",
            "<class 'dict'>\n"
          ]
        },
        {
          "output_type": "execute_result",
          "data": {
            "text/plain": [
              "{'people': [{'name': 'Alice Smith', 'age': 30, 'height': 5.5},\n",
              "  {'name': 'Bob Johnson', 'age': 45, 'height': 6.1},\n",
              "  {'name': 'Carol Williams', 'age': 22, 'height': 5.3},\n",
              "  {'name': 'David Brown', 'age': 35, 'height': 5.9}],\n",
              " 'banks': [{'name': 'hapoalim', 'rating': 7},\n",
              "  {'name': 'discount', 'rating': 8}]}"
            ]
          },
          "metadata": {},
          "execution_count": 104
        }
      ]
    },
    {
      "cell_type": "code",
      "source": [
        "type(data_representation)\n",
        "# data_representation['people']\n",
        "result = json.loads(data_representation)\n",
        "result['people']\n",
        "# result['people'][0]\n",
        "# result['people'][0]['name']"
      ],
      "metadata": {
        "colab": {
          "base_uri": "https://localhost:8080/"
        },
        "id": "6qn2l6m8WZWF",
        "outputId": "df08be26-394b-4a21-fa33-e0f89cbf276c"
      },
      "execution_count": null,
      "outputs": [
        {
          "output_type": "execute_result",
          "data": {
            "text/plain": [
              "[{'name': 'Alice Smith', 'age': 30, 'height': 5.5},\n",
              " {'name': 'Bob Johnson', 'age': 45, 'height': 6.1},\n",
              " {'name': 'Carol Williams', 'age': 22, 'height': 5.3},\n",
              " {'name': 'David Brown', 'age': 35, 'height': 5.9}]"
            ]
          },
          "metadata": {},
          "execution_count": 110
        }
      ]
    },
    {
      "cell_type": "markdown",
      "source": [
        "# Finding Specific Data in Nested Python Structures Commonly Used in JSON\n",
        "\n",
        "When working with JSON data in Python, it's common to encounter nested structures composed of dictionaries (`dict`) and lists (`list`). Understanding how to navigate and find specific data within these structures is a valuable skill, especially when dealing with data loaded from JSON files.\n",
        "\n",
        "### Representation in Python:\n",
        "The `db` example you provided is a typical representation of JSON-like data in Python. It's a combination of lists and dictionaries, a structure that is not just Python-specific but is also how data is often stored in JSON files:\n",
        "\n",
        "```python\n",
        "people = [\n",
        "    {\"name\": \"Alice Smith\", \"age\": 30, \"height\": 5.5},\n",
        "    {\"name\": \"Bob Johnson\", \"age\": 45, \"height\": 6.1},\n",
        "    {\"name\": \"Carol Williams\", \"age\": 22, \"height\": 5.3},\n",
        "    {\"name\": \"David Brown\", \"age\": 35, \"height\": 5.9}\n",
        "]\n",
        "\n",
        "banks = [\n",
        "    {'name': 'hapoalim', 'rating': 7},\n",
        "    {'name': 'discount', 'rating': 8},\n",
        "    {'name': 'leumi', 'rating': 9}\n",
        "]\n",
        "\n",
        "db = {\n",
        "    'people': people,\n",
        "    'banks': banks,\n",
        "}\n",
        "```\n",
        "\n",
        "### Finding Specific Data:\n",
        "\n",
        "#### Task: Find a Bank with a Specific Rating\n",
        "Suppose you want to find all banks with a rating of **8 or more**.\n",
        "\n",
        "**How to Do It:**\n",
        "1. Loop through the `banks` list.\n",
        "2. For each dictionary in the list, check if the value associated with the key `'rating'` is **8 or more**.\n",
        "3. If it is, you've found a matching bank.\n",
        "\n",
        "**Example Code:**\n",
        "```python\n",
        "rating_to_find = 8\n",
        "found_banks = [bank for bank in db['banks'] if bank['rating'] >= rating_to_find]\n",
        "print(\"Banks with rating 8 or more:\", found_banks)\n",
        "```\n",
        "\n",
        "### Understanding the Structure:\n",
        "- The combination of lists and dictionaries, as seen in this `db`, allows for a representation of data in a structured and hierarchical manner.\n",
        "- Lists are used for collections of items (like multiple people or banks), while dictionaries are used to represent structured data about a single item (like details of a person or a bank).\n",
        "\n",
        "By mastering how to search through nested lists and dictionaries, you can effectively handle complex data structures making data manipulation and analysis more efficient and straightforward."
      ],
      "metadata": {
        "id": "aNZAk8xsn00v"
      }
    },
    {
      "cell_type": "markdown",
      "source": [
        "## Exercises\n",
        "\n",
        "### Exercise 1: Create and Save JSON Data\n",
        "\n",
        "**Task:** Create a Python dictionary representing a bookstore with different categories of books. Each category should have a list of books, where each book is represented as a dictionary with keys like `title`, `author`, and `price`. Then, save this data to a file in JSON format.\n",
        "\n",
        "**Steps:**\n",
        "1. Create a Python dictionary with at least two categories, such as 'Fiction' and 'Non-fiction'.\n",
        "2. Each category should contain a list of at least two books.\n",
        "3. Use the `json` module to save this dictionary to a file named 'bookstore.json'.\n",
        "\n",
        "**Example Structure:**\n",
        "```python\n",
        "bookstore = {\n",
        "    \"Fiction\": [\n",
        "        {\"title\": \"To Kill a Mockingbird\", \"author\": \"Harper Lee\", \"price\": 8.99},\n",
        "        {\"title\": \"1984\", \"author\": \"George Orwell\", \"price\": 7.99}\n",
        "    ],\n",
        "    \"Non-fiction\": [\n",
        "        {\"title\": \"Sapiens\", \"author\": \"Yuval Noah Harari\", \"price\": 15.99},\n",
        "        {\"title\": \"Educated\", \"author\": \"Tara Westover\", \"price\": 12.99}\n",
        "    ]\n",
        "}\n",
        "```\n",
        "---\n",
        "\n",
        "### Exercise 2: Load and Modify JSON Data\n",
        "\n",
        "**Example Structure in 'employees.json':**\n",
        "```json\n",
        "[\n",
        "    {\"name\": \"John Doe\", \"position\": \"Manager\", \"salary\": 50000},\n",
        "    {\"name\": \"Jane Smith\", \"position\": \"Developer\", \"salary\": 60000}\n",
        "]\n",
        "```\n",
        "\n",
        "**Task:** Write a Python script to manage employee data stored in a JSON file named 'employees.json'. If the file doesn't exist, create it with sample data. Load the data, increase each employee's salary by 10%, then save the updated data back to the file.\n",
        "\n",
        "**Steps:**\n",
        "1. Check if 'employees.json' exists. If not, create it with sample employee data.\n",
        "2. Load the employee data from 'employees.json'.\n",
        "3. Increase each employee's salary by 10%.\n",
        "4. Print the updated employee data.\n",
        "5. Save the updated data back to 'employees.json'.\n",
        "\n",
        "---\n",
        "\n",
        "> These exercises will help you practice creating, saving, loading, and manipulating JSON data in Python, which are common tasks in many real-world applications involving data handling."
      ],
      "metadata": {
        "id": "f8hW97XjpOVO"
      }
    },
    {
      "cell_type": "code",
      "source": [],
      "metadata": {
        "id": "XE_i6nEIXWxp"
      },
      "execution_count": null,
      "outputs": []
    },
    {
      "cell_type": "markdown",
      "source": [
        "# solution"
      ],
      "metadata": {
        "id": "-l3-LtwypSJm"
      }
    },
    {
      "cell_type": "code",
      "source": [
        "### 1\n",
        "\n",
        "import json\n",
        "\n",
        "# Creating the bookstore data structure\n",
        "bookstore = {\n",
        "    \"Fiction\": [\n",
        "        {\"title\": \"To Kill a Mockingbird\", \"author\": \"Harper Lee\", \"price\": 8.99},\n",
        "        {\"title\": \"1984\", \"author\": \"George Orwell\", \"price\": 7.99}\n",
        "    ],\n",
        "    \"Non-fiction\": [\n",
        "        {\"title\": \"Sapiens\", \"author\": \"Yuval Noah Harari\", \"price\": 15.99},\n",
        "        {\"title\": \"Educated\", \"author\": \"Tara Westover\", \"price\": 12.99}\n",
        "    ]\n",
        "}\n",
        "\n",
        "# Writing the dictionary to a JSON file\n",
        "with open('bookstore.json', 'w') as json_file:\n",
        "    json.dump(bookstore, json_file, indent=4)\n",
        "\n"
      ],
      "metadata": {
        "id": "tjvSQtbJpSxl"
      },
      "execution_count": null,
      "outputs": []
    },
    {
      "cell_type": "code",
      "source": [
        "### 2\n",
        "\n",
        "import json\n",
        "\n",
        "def create_data():\n",
        "    # Sample data for 'employees.json'\n",
        "    sample_employees = [\n",
        "        {\"name\": \"John Doe\", \"position\": \"Manager\", \"salary\": 50000},\n",
        "        {\"name\": \"Jane Smith\", \"position\": \"Developer\", \"salary\": 60000}\n",
        "    ]\n",
        "    return sample_employees\n",
        "\n",
        "if not Path('employees.json').exists():\n",
        "    print('Creating \"employees.json\" file')\n",
        "    # Create 'employees.json' with sample data\n",
        "    with open('employees.json', 'w') as json_file:\n",
        "        json.dump(create_data(), json_file, indent=4)\n",
        "\n",
        "# Load JSON data from 'employees.json'\n",
        "with open('employees.json', 'r') as json_file:\n",
        "    employees = json.load(json_file)\n",
        "\n",
        "# Increasing each employee's salary by 10%\n",
        "for employee in employees:\n",
        "    employee['salary'] *= 1.10\n",
        "\n",
        "# Printing the updated list of employees\n",
        "print(\"Updated employee data:\")\n",
        "for employee in employees:\n",
        "    print(employee)\n",
        "\n",
        "print('saving to \"employees.json\" file')\n",
        "with open('employees.json', 'w') as json_file:\n",
        "    json.dump(employees, json_file, indent=4)\n",
        "\n"
      ],
      "metadata": {
        "colab": {
          "base_uri": "https://localhost:8080/"
        },
        "id": "Xe6lw0tephV3",
        "outputId": "87de8f7a-bde0-4992-f0d1-d930ecdef143"
      },
      "execution_count": null,
      "outputs": [
        {
          "output_type": "stream",
          "name": "stdout",
          "text": [
            "Updated employee data:\n",
            "{'name': 'John Doe', 'position': 'Manager', 'salary': 66550.00000000001}\n",
            "{'name': 'Jane Smith', 'position': 'Developer', 'salary': 79860.0}\n",
            "saving to \"employees.json\" file\n"
          ]
        }
      ]
    },
    {
      "cell_type": "code",
      "source": [],
      "metadata": {
        "id": "CMe97oTqpm-O"
      },
      "execution_count": null,
      "outputs": []
    }
  ]
}